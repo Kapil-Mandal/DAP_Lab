{
  "nbformat": 4,
  "nbformat_minor": 0,
  "metadata": {
    "colab": {
      "provenance": [],
      "authorship_tag": "ABX9TyM47+s1g6+kneXA/lNAjsXo",
      "include_colab_link": true
    },
    "kernelspec": {
      "name": "python3",
      "display_name": "Python 3"
    },
    "language_info": {
      "name": "python"
    }
  },
  "cells": [
    {
      "cell_type": "markdown",
      "metadata": {
        "id": "view-in-github",
        "colab_type": "text"
      },
      "source": [
        "<a href=\"https://colab.research.google.com/github/Kapil-Mandal/DAP_Lab/blob/main/Week_1.ipynb\" target=\"_parent\"><img src=\"https://colab.research.google.com/assets/colab-badge.svg\" alt=\"Open In Colab\"/></a>"
      ]
    },
    {
      "cell_type": "markdown",
      "source": [
        "1. Print \"Hello, World!\"."
      ],
      "metadata": {
        "id": "wUkTHUccChts"
      }
    },
    {
      "cell_type": "code",
      "execution_count": 1,
      "metadata": {
        "colab": {
          "base_uri": "https://localhost:8080/"
        },
        "id": "Hgjzuis8_w4m",
        "outputId": "a1e787de-ed82-412a-865b-7774652648b4"
      },
      "outputs": [
        {
          "output_type": "stream",
          "name": "stdout",
          "text": [
            "Hello, World!\n"
          ]
        }
      ],
      "source": [
        "print(\"Hello, World!\")"
      ]
    },
    {
      "cell_type": "markdown",
      "source": [
        "2. Calculate the sum of two numbers."
      ],
      "metadata": {
        "id": "qAMeiwGsDEie"
      }
    },
    {
      "cell_type": "code",
      "source": [
        "a = int(input(\"Enter first number: \"))\n",
        "b = int(input(\"Enter second number: \"))\n",
        "print(\"Sum:\", a + b)\n"
      ],
      "metadata": {
        "colab": {
          "base_uri": "https://localhost:8080/"
        },
        "id": "PbK4WXOoAK8a",
        "outputId": "075300b5-c308-40e2-eded-7c0ba6fe1518"
      },
      "execution_count": 17,
      "outputs": [
        {
          "output_type": "stream",
          "name": "stdout",
          "text": [
            "Enter first number: 4\n",
            "Enter second number: 5\n",
            "Sum: 9\n"
          ]
        }
      ]
    },
    {
      "cell_type": "markdown",
      "source": [
        "3. Find the square of a number."
      ],
      "metadata": {
        "id": "MpWL1-gPDJ1F"
      }
    },
    {
      "cell_type": "code",
      "source": [
        "num = int(input(\"Enter a number: \"))\n",
        "print(\"Square:\", num ** 2)\n"
      ],
      "metadata": {
        "colab": {
          "base_uri": "https://localhost:8080/"
        },
        "id": "0wiu8HArAs9n",
        "outputId": "7196f258-fac3-4ce1-ffaa-04ff610540f2"
      },
      "execution_count": 4,
      "outputs": [
        {
          "output_type": "stream",
          "name": "stdout",
          "text": [
            "Enter a number: 4\n",
            "Square: 16\n"
          ]
        }
      ]
    },
    {
      "cell_type": "markdown",
      "source": [
        "4. Accept the user's name and greet them with it."
      ],
      "metadata": {
        "id": "jTlGBpE2DQNh"
      }
    },
    {
      "cell_type": "code",
      "source": [
        "name = input(\"Enter your name: \")\n",
        "print(\"Hello, \" + name + \"!\")\n"
      ],
      "metadata": {
        "colab": {
          "base_uri": "https://localhost:8080/"
        },
        "id": "vwv6fAFbAwab",
        "outputId": "4c1cd67b-7cc4-4c84-efe2-a5ba644c85fc"
      },
      "execution_count": 5,
      "outputs": [
        {
          "output_type": "stream",
          "name": "stdout",
          "text": [
            "Enter your name: Kapil\n",
            "Hello, Kapil!\n"
          ]
        }
      ]
    },
    {
      "cell_type": "markdown",
      "source": [
        "5. Check whether a number is even or odd."
      ],
      "metadata": {
        "id": "IVEp44HIDZZD"
      }
    },
    {
      "cell_type": "code",
      "source": [
        "num = int(input(\"Enter a number: \"))\n",
        "if num % 2 == 0:\n",
        "    print(\"Even\")\n",
        "else:\n",
        "    print(\"Odd\")\n"
      ],
      "metadata": {
        "colab": {
          "base_uri": "https://localhost:8080/"
        },
        "id": "xQnreI9oBBTI",
        "outputId": "d4ee99fd-81c6-4b21-a38e-10a5ad4a86f0"
      },
      "execution_count": 6,
      "outputs": [
        {
          "output_type": "stream",
          "name": "stdout",
          "text": [
            "Enter a number: 6\n",
            "Even\n"
          ]
        }
      ]
    },
    {
      "cell_type": "markdown",
      "source": [
        "6. Write a Python program that takes a list and returns a new list with unique elements of the first list.\n"
      ],
      "metadata": {
        "id": "3nKfKyJSDe3w"
      }
    },
    {
      "cell_type": "code",
      "source": [
        "lst = list(map(int, input(\"Enter numbers separated by space: \").split()))\n",
        "unique_elements = list(set(lst))\n",
        "print(\"Unique elements:\", unique_elements)\n"
      ],
      "metadata": {
        "colab": {
          "base_uri": "https://localhost:8080/"
        },
        "id": "fFwi8J0NBEpj",
        "outputId": "1da93e31-61dc-4bee-cde8-6ed0c5b73f3f"
      },
      "execution_count": 7,
      "outputs": [
        {
          "output_type": "stream",
          "name": "stdout",
          "text": [
            "Enter numbers separated by space: 1 2 3 4 5\n",
            "Unique elements: [1, 2, 3, 4, 5]\n"
          ]
        }
      ]
    },
    {
      "cell_type": "markdown",
      "source": [
        "7. Convert Celsius to Fahrenheit."
      ],
      "metadata": {
        "id": "Fc9C6l1bDjck"
      }
    },
    {
      "cell_type": "code",
      "source": [
        "celsius = int(input(\"Enter temperature in Celsius: \"))\n",
        "fahrenheit = (celsius * 9/5) + 32\n",
        "print(\"Fahrenheit:\", int(fahrenheit))\n"
      ],
      "metadata": {
        "colab": {
          "base_uri": "https://localhost:8080/"
        },
        "id": "fqeve2dLBXLy",
        "outputId": "5ff7d13f-e3c8-44ac-8827-cf3b091c8e4b"
      },
      "execution_count": 8,
      "outputs": [
        {
          "output_type": "stream",
          "name": "stdout",
          "text": [
            "Enter temperature in Celsius: 40\n",
            "Fahrenheit: 104\n"
          ]
        }
      ]
    },
    {
      "cell_type": "markdown",
      "source": [
        "8. Calculate the area of a circle.\n"
      ],
      "metadata": {
        "id": "5kIEuJuFDnI1"
      }
    },
    {
      "cell_type": "code",
      "source": [
        "import math\n",
        "radius = int(input(\"Enter radius: \"))\n",
        "area = math.pi * radius ** 2\n",
        "print(\"Area of circle:\", int(area))\n"
      ],
      "metadata": {
        "colab": {
          "base_uri": "https://localhost:8080/"
        },
        "id": "9i9RADMHBeVY",
        "outputId": "472a90fd-5d13-4da4-cf53-4dc867ce885b"
      },
      "execution_count": 9,
      "outputs": [
        {
          "output_type": "stream",
          "name": "stdout",
          "text": [
            "Enter radius: 5\n",
            "Area of circle: 78\n"
          ]
        }
      ]
    },
    {
      "cell_type": "markdown",
      "source": [
        "9. Reverse a given string.\n"
      ],
      "metadata": {
        "id": "j9NK5zVPDr3F"
      }
    },
    {
      "cell_type": "code",
      "source": [
        "string = input(\"Enter a string: \")\n",
        "print(\"Reversed string:\", string[::-1])\n"
      ],
      "metadata": {
        "colab": {
          "base_uri": "https://localhost:8080/"
        },
        "id": "dmae8PPwBj-d",
        "outputId": "47b99400-85d5-453e-e1af-0f70657e4c5a"
      },
      "execution_count": 10,
      "outputs": [
        {
          "output_type": "stream",
          "name": "stdout",
          "text": [
            "Enter a string: kapil\n",
            "Reversed string: lipak\n"
          ]
        }
      ]
    },
    {
      "cell_type": "markdown",
      "source": [
        "10. Check if a number is a prime number.\n"
      ],
      "metadata": {
        "id": "Db8Q4klCDxm-"
      }
    },
    {
      "cell_type": "code",
      "source": [
        "num = int(input(\"Enter a number: \"))\n",
        "if num > 1:\n",
        "    for i in range(2, int(num ** 0.5) + 1):\n",
        "        if num % i == 0:\n",
        "            print(\"Not a prime number\")\n",
        "            break\n",
        "    else:\n",
        "        print(\"Prime number\")\n",
        "else:\n",
        "    print(\"Not a prime number\")\n"
      ],
      "metadata": {
        "colab": {
          "base_uri": "https://localhost:8080/"
        },
        "id": "ugLHNTriBrTm",
        "outputId": "e200af92-d8ab-4819-d13e-e228de7d07d0"
      },
      "execution_count": 11,
      "outputs": [
        {
          "output_type": "stream",
          "name": "stdout",
          "text": [
            "Enter a number: 7\n",
            "Prime number\n"
          ]
        }
      ]
    },
    {
      "cell_type": "markdown",
      "source": [
        "11. Calculate the factorial of a number.\n"
      ],
      "metadata": {
        "id": "DLLWFNKpD1b-"
      }
    },
    {
      "cell_type": "code",
      "source": [
        "def factorial(n):\n",
        "    return 1 if n == 0 else n * factorial(n - 1)\n",
        "\n",
        "num = int(input(\"Enter a number: \"))\n",
        "print(\"Factorial:\", factorial(num))\n"
      ],
      "metadata": {
        "colab": {
          "base_uri": "https://localhost:8080/"
        },
        "id": "lpJsHkwQBybP",
        "outputId": "3f1b6dcf-c14f-4544-c31b-998c45581c6b"
      },
      "execution_count": 12,
      "outputs": [
        {
          "output_type": "stream",
          "name": "stdout",
          "text": [
            "Enter a number: 4\n",
            "Factorial: 24\n"
          ]
        }
      ]
    },
    {
      "cell_type": "markdown",
      "source": [
        "12. Find the largest item from a given list.\n"
      ],
      "metadata": {
        "id": "04ZiMvoYD4xH"
      }
    },
    {
      "cell_type": "code",
      "source": [
        "lst = list(map(int, input(\"Enter numbers separated by space: \").split()))\n",
        "print(\"Largest number:\", max(lst))\n"
      ],
      "metadata": {
        "colab": {
          "base_uri": "https://localhost:8080/"
        },
        "id": "kG3hgPGwB2JN",
        "outputId": "31eba837-6640-423d-f7b5-0816be8ca87c"
      },
      "execution_count": 13,
      "outputs": [
        {
          "output_type": "stream",
          "name": "stdout",
          "text": [
            "Enter numbers separated by space: 4 2 1 6 9 7\n",
            "Largest number: 9\n"
          ]
        }
      ]
    },
    {
      "cell_type": "markdown",
      "source": [
        "13. Write a Python program to check whether a number is in a given range.\n"
      ],
      "metadata": {
        "id": "FQCFnjBID9tF"
      }
    },
    {
      "cell_type": "code",
      "source": [
        "num = int(input(\"Enter a number: \"))\n",
        "start = int(input(\"Enter range start: \"))\n",
        "end = int(input(\"Enter range end: \"))\n",
        "print(\"In range:\", start <= num <= end)\n"
      ],
      "metadata": {
        "colab": {
          "base_uri": "https://localhost:8080/"
        },
        "id": "A7EOQfw5CAoH",
        "outputId": "cfeca0a3-46b5-41d5-de5b-dda30f7e9dff"
      },
      "execution_count": 14,
      "outputs": [
        {
          "output_type": "stream",
          "name": "stdout",
          "text": [
            "Enter a number: 5\n",
            "Enter range start: 0\n",
            "Enter range end: 9\n",
            "In range: True\n"
          ]
        }
      ]
    },
    {
      "cell_type": "markdown",
      "source": [
        "14. Calculate the number of upper case letters and lower case letters in a string."
      ],
      "metadata": {
        "id": "q99TD3ZTED1n"
      }
    },
    {
      "cell_type": "code",
      "source": [
        "s = input(\"Enter a string: \")\n",
        "upper = sum(1 for c in s if c.isupper())\n",
        "lower = sum(1 for c in s if c.islower())\n",
        "print(\"Uppercase letters:\", upper, \"Lowercase letters:\", lower)\n"
      ],
      "metadata": {
        "colab": {
          "base_uri": "https://localhost:8080/"
        },
        "id": "exjthzbyCWsd",
        "outputId": "70c67d9e-6e1e-48d4-f305-f55360504ade"
      },
      "execution_count": 15,
      "outputs": [
        {
          "output_type": "stream",
          "name": "stdout",
          "text": [
            "Enter a string: Kapil\n",
            "Uppercase letters: 1 Lowercase letters: 4\n"
          ]
        }
      ]
    }
  ]
}
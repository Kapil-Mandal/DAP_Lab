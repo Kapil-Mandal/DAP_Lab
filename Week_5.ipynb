{
  "nbformat": 4,
  "nbformat_minor": 0,
  "metadata": {
    "colab": {
      "provenance": [],
      "authorship_tag": "ABX9TyNdMIHNugCGRy4ejln7Earq",
      "include_colab_link": true
    },
    "kernelspec": {
      "name": "python3",
      "display_name": "Python 3"
    },
    "language_info": {
      "name": "python"
    }
  },
  "cells": [
    {
      "cell_type": "markdown",
      "metadata": {
        "id": "view-in-github",
        "colab_type": "text"
      },
      "source": [
        "<a href=\"https://colab.research.google.com/github/Kapil-Mandal/DAP_Lab/blob/main/Week_5.ipynb\" target=\"_parent\"><img src=\"https://colab.research.google.com/assets/colab-badge.svg\" alt=\"Open In Colab\"/></a>"
      ]
    },
    {
      "cell_type": "markdown",
      "source": [
        "1. Accessing and Modifying the Index."
      ],
      "metadata": {
        "id": "4f5YhRJgWail"
      }
    },
    {
      "cell_type": "code",
      "execution_count": 2,
      "metadata": {
        "colab": {
          "base_uri": "https://localhost:8080/"
        },
        "id": "B061j3aTWEhL",
        "outputId": "9c1be3d8-5d96-434b-f9db-9fd2a4211ad4"
      },
      "outputs": [
        {
          "output_type": "stream",
          "name": "stdout",
          "text": [
            "RangeIndex(start=0, stop=5, step=1)\n"
          ]
        }
      ],
      "source": [
        "import pandas as pd\n",
        "\n",
        "data = {'Name': ['John', 'Alice', 'Bob', 'Eve', 'Charlie'],\n",
        "        'Age': [25, 30, 22, 35, 28],\n",
        "        'Gender': ['Male', 'Female', 'Male', 'Female', 'Male'],\n",
        "        'Salary': [50000, 55000, 40000, 70000, 48000]}\n",
        "\n",
        "df = pd.DataFrame(data)\n",
        "\n",
        "print(df.index)  # Accessing the index"
      ]
    },
    {
      "cell_type": "markdown",
      "source": [
        "2. Setting a Custom Index."
      ],
      "metadata": {
        "id": "bwpEElAGXP0_"
      }
    },
    {
      "cell_type": "code",
      "source": [
        "# Set 'Name' column as the index\n",
        "df_with_index = df.set_index('Name')\n",
        "print(df_with_index)"
      ],
      "metadata": {
        "colab": {
          "base_uri": "https://localhost:8080/"
        },
        "id": "R-xi14ovXQvl",
        "outputId": "c869cbed-4033-4212-a71b-bdcecb314c5e"
      },
      "execution_count": 3,
      "outputs": [
        {
          "output_type": "stream",
          "name": "stdout",
          "text": [
            "         Age  Gender  Salary\n",
            "Name                        \n",
            "John      25    Male   50000\n",
            "Alice     30  Female   55000\n",
            "Bob       22    Male   40000\n",
            "Eve       35  Female   70000\n",
            "Charlie   28    Male   48000\n"
          ]
        }
      ]
    },
    {
      "cell_type": "markdown",
      "source": [
        "3. Resetting the Index python Copy Edit."
      ],
      "metadata": {
        "id": "39iyq66-Xcle"
      }
    },
    {
      "cell_type": "code",
      "source": [
        "# Reset the index back to the default integer index\n",
        "df_reset = df.reset_index()\n",
        "print(df_reset)"
      ],
      "metadata": {
        "colab": {
          "base_uri": "https://localhost:8080/"
        },
        "id": "i32F12LrXfM8",
        "outputId": "46905bb2-1db2-4abb-c022-fba9da34f554"
      },
      "execution_count": 4,
      "outputs": [
        {
          "output_type": "stream",
          "name": "stdout",
          "text": [
            "   index     Name  Age  Gender  Salary\n",
            "0      0     John   25    Male   50000\n",
            "1      1    Alice   30  Female   55000\n",
            "2      2      Bob   22    Male   40000\n",
            "3      3      Eve   35  Female   70000\n",
            "4      4  Charlie   28    Male   48000\n"
          ]
        }
      ]
    },
    {
      "cell_type": "markdown",
      "source": [
        "4. Indexing with loc."
      ],
      "metadata": {
        "id": "sMUEMKgIXia8"
      }
    },
    {
      "cell_type": "code",
      "source": [
        "row = df.loc[1]  # This will actually throw an error because 'loc' works with labels, not numerical indices.\n",
        "print(row)"
      ],
      "metadata": {
        "colab": {
          "base_uri": "https://localhost:8080/"
        },
        "id": "iTUQYqaTXl5u",
        "outputId": "a9c51804-0625-4861-aed3-707919f1348f"
      },
      "execution_count": 6,
      "outputs": [
        {
          "output_type": "stream",
          "name": "stdout",
          "text": [
            "Name       Alice\n",
            "Age           30\n",
            "Gender    Female\n",
            "Salary     55000\n",
            "Name: 1, dtype: object\n"
          ]
        }
      ]
    },
    {
      "cell_type": "markdown",
      "source": [
        "5. Changing the Index."
      ],
      "metadata": {
        "id": "i8vESectXtme"
      }
    },
    {
      "cell_type": "code",
      "source": [
        "# Set 'Age' as the new index\n",
        "df_with_new_index = df.set_index('Age')\n",
        "print(df_with_new_index)"
      ],
      "metadata": {
        "colab": {
          "base_uri": "https://localhost:8080/"
        },
        "id": "esky61IXXxNf",
        "outputId": "e8e37254-ae26-48e3-a52b-0bea30787285"
      },
      "execution_count": 7,
      "outputs": [
        {
          "output_type": "stream",
          "name": "stdout",
          "text": [
            "        Name  Gender  Salary\n",
            "Age                         \n",
            "25      John    Male   50000\n",
            "30     Alice  Female   55000\n",
            "22       Bob    Male   40000\n",
            "35       Eve  Female   70000\n",
            "28   Charlie    Male   48000\n"
          ]
        }
      ]
    },
    {
      "cell_type": "markdown",
      "source": [
        "6.PandasAccessDataFrame."
      ],
      "metadata": {
        "id": "w2iaxwYAX0Rt"
      }
    },
    {
      "cell_type": "code",
      "source": [
        "import pandas as pd\n",
        "\n",
        "data = {'Name': ['John', 'Alice', 'Bob', 'Eve', 'Charlie'],\n",
        "        'Age': [25, 30, 22, 35, 28],\n",
        "        'Gender': ['Male', 'Female', 'Male', 'Female', 'Male'],\n",
        "        'Salary': [50000, 55000, 40000, 70000, 48000]}\n",
        "\n",
        "df = pd.DataFrame(data)\n",
        "\n",
        "# Display the entire DataFrame\n",
        "print(df)"
      ],
      "metadata": {
        "colab": {
          "base_uri": "https://localhost:8080/"
        },
        "id": "Draz0h-CX3zo",
        "outputId": "dc42acfb-13f2-4d05-fa52-d22d8085e5fd"
      },
      "execution_count": 8,
      "outputs": [
        {
          "output_type": "stream",
          "name": "stdout",
          "text": [
            "      Name  Age  Gender  Salary\n",
            "0     John   25    Male   50000\n",
            "1    Alice   30  Female   55000\n",
            "2      Bob   22    Male   40000\n",
            "3      Eve   35  Female   70000\n",
            "4  Charlie   28    Male   48000\n"
          ]
        }
      ]
    },
    {
      "cell_type": "markdown",
      "source": [
        "7. Accessing Columns From DataFrame."
      ],
      "metadata": {
        "id": "I0iQgY2vX85N"
      }
    },
    {
      "cell_type": "code",
      "source": [
        "# Access the 'Age' column\n",
        "age_column = df['Age']\n",
        "print(age_column)"
      ],
      "metadata": {
        "colab": {
          "base_uri": "https://localhost:8080/"
        },
        "id": "p8ESN09dX_Dx",
        "outputId": "33ae19a9-6589-467a-bc0d-3dbe277b2ac3"
      },
      "execution_count": 9,
      "outputs": [
        {
          "output_type": "stream",
          "name": "stdout",
          "text": [
            "0    25\n",
            "1    30\n",
            "2    22\n",
            "3    35\n",
            "4    28\n",
            "Name: Age, dtype: int64\n"
          ]
        }
      ]
    },
    {
      "cell_type": "markdown",
      "source": [
        "8. Accessing Rows by Index."
      ],
      "metadata": {
        "id": "n0H6zJUcYCso"
      }
    },
    {
      "cell_type": "code",
      "source": [
        "# Access the row at index 1 (second row)\n",
        "second_row = df.iloc[1]\n",
        "print(second_row)"
      ],
      "metadata": {
        "colab": {
          "base_uri": "https://localhost:8080/"
        },
        "id": "q_Bq_OOlYGHz",
        "outputId": "19a517dd-01b3-45a6-d12e-cf1b3138bdfe"
      },
      "execution_count": 10,
      "outputs": [
        {
          "output_type": "stream",
          "name": "stdout",
          "text": [
            "Name       Alice\n",
            "Age           30\n",
            "Gender    Female\n",
            "Salary     55000\n",
            "Name: 1, dtype: object\n"
          ]
        }
      ]
    },
    {
      "cell_type": "markdown",
      "source": [
        "9. Accessing Multiple Rows or Columns."
      ],
      "metadata": {
        "id": "ifUkVHfxYJa-"
      }
    },
    {
      "cell_type": "code",
      "source": [
        "# Access the first three rows and the 'Name' and 'Age' columns\n",
        "subset = df.loc[0:2, ['Name', 'Age']]\n",
        "print(subset)"
      ],
      "metadata": {
        "colab": {
          "base_uri": "https://localhost:8080/"
        },
        "id": "5sOLmdZhYOQU",
        "outputId": "f0c7e3cf-3aeb-401f-8d10-40deae26836f"
      },
      "execution_count": 11,
      "outputs": [
        {
          "output_type": "stream",
          "name": "stdout",
          "text": [
            "    Name  Age\n",
            "0   John   25\n",
            "1  Alice   30\n",
            "2    Bob   22\n"
          ]
        }
      ]
    },
    {
      "cell_type": "markdown",
      "source": [
        "10. Accessing Rows Based on Conditions."
      ],
      "metadata": {
        "id": "_woTeLFpYZkV"
      }
    },
    {
      "cell_type": "code",
      "source": [
        "# Access rows where 'Age' is greater than 25\n",
        "filtered_data = df[df['Age'] > 25]\n",
        "print(filtered_data)"
      ],
      "metadata": {
        "colab": {
          "base_uri": "https://localhost:8080/"
        },
        "id": "ZXkBX4-7Ybgj",
        "outputId": "61c7641b-19c9-4845-f00b-a5f7b2f59790"
      },
      "execution_count": 12,
      "outputs": [
        {
          "output_type": "stream",
          "name": "stdout",
          "text": [
            "      Name  Age  Gender  Salary\n",
            "1    Alice   30  Female   55000\n",
            "3      Eve   35  Female   70000\n",
            "4  Charlie   28    Male   48000\n"
          ]
        }
      ]
    },
    {
      "cell_type": "markdown",
      "source": [
        "11. Accessing Specific Cells with at and iat."
      ],
      "metadata": {
        "id": "_K4X855aYeDA"
      }
    },
    {
      "cell_type": "code",
      "source": [
        "# Access the 'Salary' of the row with label 2\n",
        "salary_at_index_2 = df.at[2, 'Salary']\n",
        "print(salary_at_index_2)"
      ],
      "metadata": {
        "colab": {
          "base_uri": "https://localhost:8080/"
        },
        "id": "t0frkXzkYiV3",
        "outputId": "c567385d-e240-4667-df6b-3b1995b817a0"
      },
      "execution_count": 13,
      "outputs": [
        {
          "output_type": "stream",
          "name": "stdout",
          "text": [
            "40000\n"
          ]
        }
      ]
    }
  ]
}
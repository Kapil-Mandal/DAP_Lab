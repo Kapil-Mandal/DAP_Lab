{
  "nbformat": 4,
  "nbformat_minor": 0,
  "metadata": {
    "colab": {
      "provenance": [],
      "authorship_tag": "ABX9TyODJcAUESqVdWgOXP8c7uYc",
      "include_colab_link": true
    },
    "kernelspec": {
      "name": "python3",
      "display_name": "Python 3"
    },
    "language_info": {
      "name": "python"
    }
  },
  "cells": [
    {
      "cell_type": "markdown",
      "metadata": {
        "id": "view-in-github",
        "colab_type": "text"
      },
      "source": [
        "<a href=\"https://colab.research.google.com/github/Kapil-Mandal/DAP_Lab/blob/main/Week_3.ipynb\" target=\"_parent\"><img src=\"https://colab.research.google.com/assets/colab-badge.svg\" alt=\"Open In Colab\"/></a>"
      ]
    },
    {
      "cell_type": "markdown",
      "source": [
        "Design a GUI using python to perform basic operators of arithmetic or calculator."
      ],
      "metadata": {
        "id": "7cS03FcuOcvp"
      }
    },
    {
      "cell_type": "code",
      "execution_count": null,
      "metadata": {
        "colab": {
          "base_uri": "https://localhost:8080/"
        },
        "id": "iMASnUEdTw6z",
        "outputId": "0a723872-55cf-4a6d-ebd9-c2d24b8a8fa3"
      },
      "outputs": [
        {
          "output_type": "stream",
          "name": "stdout",
          "text": [
            "Reading package lists... Done\n",
            "Building dependency tree... Done\n",
            "Reading state information... Done\n",
            "xvfb is already the newest version (2:21.1.4-2ubuntu1.7~22.04.14).\n",
            "0 upgraded, 0 newly installed, 0 to remove and 34 not upgraded.\n",
            "Requirement already satisfied: pyvirtualdisplay in /usr/local/lib/python3.11/dist-packages (3.0)\n"
          ]
        }
      ],
      "source": [
        "import tkinter as tk\n",
        "\n",
        "def on_click(button_text):\n",
        "    current_text = entry_var.get()\n",
        "    if button_text == '=':\n",
        "        try:\n",
        "            result = str(eval(current_text))\n",
        "            entry_var.set(result)\n",
        "        except Exception as e:\n",
        "            entry_var.set(\"Error\")\n",
        "    elif button_text == 'C':\n",
        "        entry_var.set(\"\")\n",
        "    else:\n",
        "        entry_var.set(current_text + button_text)\n",
        "\n",
        "root = tk.Tk()\n",
        "root.title(\"Simple Calculator\")\n",
        "root.geometry(\"300x400\")\n",
        "\n",
        "entry_var = tk.StringVar()\n",
        "entry = tk.Entry(root, textvariable=entry_var, font=(\"Arial\", 18), justify='right', bd=10, relief=tk.RIDGE)\n",
        "entry.grid(row=0, column=0, columnspan=4, ipadx=8, ipady=8)\n",
        "\n",
        "buttons = [\n",
        "    ('7', '8', '9', '/'),\n",
        "    ('4', '5', '6', '*'),\n",
        "    ('1', '2', '3', '-'),\n",
        "    ('C', '0', '=', '+')\n",
        "]\n",
        "\n",
        "for i, row in enumerate(buttons):\n",
        "    for j, text in enumerate(row):\n",
        "        button = tk.Button(root, text=text, font=(\"Arial\", 18), width=5, height=2,\n",
        "                           command=lambda t=text: on_click(t))\n",
        "        button.grid(row=i+1, column=j, padx=5, pady=5)\n",
        "\n",
        "root.mainloop()\n"
      ]
    }
  ]
}
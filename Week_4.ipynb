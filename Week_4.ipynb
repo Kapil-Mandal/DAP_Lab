{
  "nbformat": 4,
  "nbformat_minor": 0,
  "metadata": {
    "colab": {
      "provenance": [],
      "authorship_tag": "ABX9TyPo++laF7Ij+3ofvlrDp25z",
      "include_colab_link": true
    },
    "kernelspec": {
      "name": "python3",
      "display_name": "Python 3"
    },
    "language_info": {
      "name": "python"
    }
  },
  "cells": [
    {
      "cell_type": "markdown",
      "metadata": {
        "id": "view-in-github",
        "colab_type": "text"
      },
      "source": [
        "<a href=\"https://colab.research.google.com/github/Kapil-Mandal/DAP_Lab/blob/main/Week_4.ipynb\" target=\"_parent\"><img src=\"https://colab.research.google.com/assets/colab-badge.svg\" alt=\"Open In Colab\"/></a>"
      ]
    },
    {
      "cell_type": "markdown",
      "source": [
        "Creating a Pandas series."
      ],
      "metadata": {
        "id": "JR1kzAo2Vcr7"
      }
    },
    {
      "cell_type": "code",
      "execution_count": 1,
      "metadata": {
        "colab": {
          "base_uri": "https://localhost:8080/"
        },
        "id": "jurHSefKVZ6u",
        "outputId": "f3d4979c-5fc3-4702-d072-ca9910272eb8"
      },
      "outputs": [
        {
          "output_type": "stream",
          "name": "stdout",
          "text": [
            "Pandas Series:  Series([], dtype: object)\n",
            "Pandas Series:\n",
            " 0    g\n",
            "1    e\n",
            "2    e\n",
            "3    k\n",
            "4    s\n",
            "dtype: object\n",
            "        0\n",
            "0   Geeks\n",
            "1     For\n",
            "2   Geeks\n",
            "3      is\n",
            "4  portal\n",
            "5     for\n",
            "6   Geeks\n",
            "    Name  Age\n",
            "0    Tom   20\n",
            "1   nick   21\n",
            "2  krish   19\n",
            "3   jack   20\n",
            "     name  degree  score\n",
            "0  aparna     MBA     90\n",
            "1  pankaj     BCA     40\n",
            "2  sudhir  M.Tech     80\n",
            "3   Geeku     MBA     98\n"
          ]
        }
      ],
      "source": [
        "import pandas as pd  # Importing the Pandas library\n",
        "import numpy as np   # Importing NumPy\n",
        "\n",
        "# Creating an empty Series\n",
        "ser = pd.Series()\n",
        "print(\"Pandas Series: \", ser)\n",
        "\n",
        "#2nd one\n",
        "# Creating a Series from a NumPy array\n",
        "data = np.array(['g', 'e', 'e', 'k', 's'])\n",
        "ser = pd.Series(data)\n",
        "print(\"Pandas Series:\\n\", ser)\n",
        "\n",
        "# List of strings\n",
        "lst = ['Geeks', 'For', 'Geeks', 'is', 'portal', 'for', 'Geeks']\n",
        "\n",
        "# Creating a DataFrame from the list\n",
        "df = pd.DataFrame(lst)\n",
        "print(df)\n",
        "\n",
        "#3rd one\n",
        "# Initializing data\n",
        "data = {'Name': ['Tom', 'nick', 'krish', 'jack'], 'Age': [20, 21, 19, 20]}\n",
        "\n",
        "# Creating DataFrame\n",
        "df = pd.DataFrame(data)\n",
        "print(df)\n",
        "\n",
        "#4th one\n",
        "# Dictionary of lists\n",
        "dict_data = {'name': [\"aparna\", \"pankaj\", \"sudhir\", \"Geeku\"],\n",
        "             'degree': [\"MBA\", \"BCA\", \"M.Tech\", \"MBA\"],\n",
        "             'score': [90, 40, 80, 98]}\n",
        "\n",
        "df = pd.DataFrame(dict_data)\n",
        "print(df)"
      ]
    }
  ]
}
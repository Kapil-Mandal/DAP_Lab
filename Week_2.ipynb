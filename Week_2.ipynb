{
  "nbformat": 4,
  "nbformat_minor": 0,
  "metadata": {
    "colab": {
      "provenance": [],
      "authorship_tag": "ABX9TyNJkOAx153Y5upkuzG+BODR",
      "include_colab_link": true
    },
    "kernelspec": {
      "name": "python3",
      "display_name": "Python 3"
    },
    "language_info": {
      "name": "python"
    }
  },
  "cells": [
    {
      "cell_type": "markdown",
      "metadata": {
        "id": "view-in-github",
        "colab_type": "text"
      },
      "source": [
        "<a href=\"https://colab.research.google.com/github/Kapil-Mandal/DAP_Lab/blob/main/Week_2.ipynb\" target=\"_parent\"><img src=\"https://colab.research.google.com/assets/colab-badge.svg\" alt=\"Open In Colab\"/></a>"
      ]
    },
    {
      "cell_type": "markdown",
      "source": [
        "1. Write a Python Function to multiply all the numbers in a list."
      ],
      "metadata": {
        "id": "umnExNDS_NFW"
      }
    },
    {
      "cell_type": "code",
      "execution_count": null,
      "metadata": {
        "colab": {
          "base_uri": "https://localhost:8080/"
        },
        "id": "mbVTRlgpd1gm",
        "outputId": "d1f36361-c060-47e1-fa03-4ba7a14615d8"
      },
      "outputs": [
        {
          "output_type": "stream",
          "name": "stdout",
          "text": [
            "Enter numbers separated by space: 1 2 3 4\n",
            "Product of list: 24\n"
          ]
        }
      ],
      "source": [
        "from functools import reduce\n",
        "\n",
        "def multiply_list(lst):\n",
        "    return reduce(lambda x, y: x * y, lst)\n",
        "\n",
        "lst = list(map(int, input(\"Enter numbers separated by space: \").split()))\n",
        "print(\"Product of list:\", multiply_list(lst))\n"
      ]
    },
    {
      "cell_type": "markdown",
      "source": [
        "2. Check if a number is perfect."
      ],
      "metadata": {
        "id": "uBaZeX9t_unK"
      }
    },
    {
      "cell_type": "code",
      "source": [
        "def is_perfect(n):\n",
        "    return sum(i for i in range(1, n) if n % i == 0) == n\n",
        "\n",
        "num = int(input(\"Enter a number: \"))\n",
        "print(f\"{num} is a perfect number\" if is_perfect(num) else f\"{num} is not a perfect number\")\n"
      ],
      "metadata": {
        "colab": {
          "base_uri": "https://localhost:8080/"
        },
        "id": "x6YezEIdA77W",
        "outputId": "2fe97b40-6052-4c68-8fcb-7c824c00e443"
      },
      "execution_count": null,
      "outputs": [
        {
          "output_type": "stream",
          "name": "stdout",
          "text": [
            "Enter a number: 6\n",
            "6 is a perfect number\n"
          ]
        }
      ]
    },
    {
      "cell_type": "markdown",
      "source": [
        "3. Create a function that checks if a passed string is a palindrome or not."
      ],
      "metadata": {
        "id": "il1kx6Qv_19B"
      }
    },
    {
      "cell_type": "code",
      "source": [
        "def is_palindrome(s):\n",
        "    return s == s[::-1]\n",
        "\n",
        "string = input(\"Enter a string: \")\n",
        "print(f\"{string} is a palindrome\" if is_palindrome(string) else f\"{string} is not a palindrome\")\n"
      ],
      "metadata": {
        "colab": {
          "base_uri": "https://localhost:8080/"
        },
        "id": "1z-5dd-WCjCE",
        "outputId": "1a50b35e-0098-4fcf-ca82-90bc4a6ff1d7"
      },
      "execution_count": null,
      "outputs": [
        {
          "output_type": "stream",
          "name": "stdout",
          "text": [
            "Enter a string: malayalam\n",
            "malayalam is a palindrome\n"
          ]
        }
      ]
    },
    {
      "cell_type": "markdown",
      "source": [
        "4. Write a Python program to check if a passed string is a pangram or not."
      ],
      "metadata": {
        "id": "Yh2oUTl6ADJr"
      }
    },
    {
      "cell_type": "code",
      "source": [
        "import string\n",
        "\n",
        "def is_pangram(s):\n",
        "    return set(string.ascii_lowercase).issubset(set(s.lower()))\n",
        "\n",
        "sentence = input(\"Enter a sentence: \")\n",
        "print(\"The sentance is Pangram\" if is_pangram(sentence) else \"Not a pangram\")\n"
      ],
      "metadata": {
        "colab": {
          "base_uri": "https://localhost:8080/"
        },
        "id": "swHDKLWnFRyz",
        "outputId": "61e5e70f-08c8-4dd8-9297-1c267b4edc8e"
      },
      "execution_count": null,
      "outputs": [
        {
          "output_type": "stream",
          "name": "stdout",
          "text": [
            "Enter a sentence: The quick brown fox jumps over the lazy dog\n",
            "The sentance is Pangram\n"
          ]
        }
      ]
    },
    {
      "cell_type": "markdown",
      "source": [
        "5. Calculate the sum of the digits of a number."
      ],
      "metadata": {
        "id": "7ySuenv2AJUe"
      }
    },
    {
      "cell_type": "code",
      "source": [
        "def sum_of_digits(n):\n",
        "    return sum(int(digit) for digit in str(n))\n",
        "\n",
        "num = int(input(\"Enter a number: \"))\n",
        "print(\"Sum of digits:\", sum_of_digits(num))\n"
      ],
      "metadata": {
        "colab": {
          "base_uri": "https://localhost:8080/"
        },
        "id": "ewZ4MlDvJbMJ",
        "outputId": "50e2ad47-dcf5-4fbf-f0c0-a76c651ee27d"
      },
      "execution_count": null,
      "outputs": [
        {
          "output_type": "stream",
          "name": "stdout",
          "text": [
            "Enter a number: 45\n",
            "Sum of digits: 9\n"
          ]
        }
      ]
    },
    {
      "cell_type": "markdown",
      "source": [
        "6. Generate a list of four random numbers."
      ],
      "metadata": {
        "id": "tqIgN0kMAP3Y"
      }
    },
    {
      "cell_type": "code",
      "source": [
        "import random\n",
        "\n",
        "random_numbers = [random.randint(1, 100) for _ in range(4)]\n",
        "print(\"Random numbers:\", random_numbers)\n"
      ],
      "metadata": {
        "id": "sxujULfBKi4d",
        "outputId": "90d6b127-f8be-4052-ba6f-2438b01d995a",
        "colab": {
          "base_uri": "https://localhost:8080/"
        }
      },
      "execution_count": null,
      "outputs": [
        {
          "output_type": "stream",
          "name": "stdout",
          "text": [
            "Random numbers: [33, 24, 62, 1]\n"
          ]
        }
      ]
    }
  ]
}